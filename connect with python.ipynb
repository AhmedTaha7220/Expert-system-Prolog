{
 "cells": [
  {
   "cell_type": "code",
   "execution_count": 1,
   "id": "3f0698aa",
   "metadata": {
    "ExecuteTime": {
     "end_time": "2024-05-27T14:01:05.490821Z",
     "start_time": "2024-05-27T14:01:00.318065Z"
    }
   },
   "outputs": [
    {
     "name": "stdout",
     "output_type": "stream",
     "text": [
      "Collecting swiplserver\n",
      "  Downloading swiplserver-1.0.2-py3-none-any.whl.metadata (2.9 kB)\n",
      "Downloading swiplserver-1.0.2-py3-none-any.whl (18 kB)\n",
      "Installing collected packages: swiplserver\n",
      "Successfully installed swiplserver-1.0.2\n",
      "Note: you may need to restart the kernel to use updated packages.\n"
     ]
    }
   ],
   "source": [
    "pip install swiplserver"
   ]
  },
  {
   "cell_type": "code",
   "execution_count": 2,
   "id": "ac4d6a50",
   "metadata": {
    "ExecuteTime": {
     "end_time": "2024-05-27T14:11:54.776974Z",
     "start_time": "2024-05-27T14:11:54.531586Z"
    }
   },
   "outputs": [
    {
     "name": "stdout",
     "output_type": "stream",
     "text": [
      "Joint pain and inflammation\n",
      "Synovium inflammation\n"
     ]
    }
   ],
   "source": [
    "## this code is print the symptom of the diseases that user enter by swiplserver library.\n",
    "\n",
    "from swiplserver import PrologMQI, PrologThread\n",
    "\n",
    "# Initialize the Prolog server\n",
    "with PrologMQI() as mqi:\n",
    "    with mqi.create_thread() as prolog_thread:\n",
    "        # Consult the Prolog file\n",
    "        prolog_thread.query(\"consult('update_bone_diseases.pl')\")\n",
    "\n",
    "        # Query Prolog for symptoms of rheumatoid_arthritis\n",
    "        result = prolog_thread.query(\"symptom(rheumatoid_arthritis, Symptom).\")\n",
    "\n",
    "        # Print the results\n",
    "        for res in result:\n",
    "            print(res[\"Symptom\"])"
   ]
  },
  {
   "cell_type": "code",
   "execution_count": 6,
   "id": "5657e4c0",
   "metadata": {
    "ExecuteTime": {
     "end_time": "2024-05-27T14:12:20.714783Z",
     "start_time": "2024-05-27T14:12:20.652595Z"
    }
   },
   "outputs": [
    {
     "name": "stdout",
     "output_type": "stream",
     "text": [
      "Weakened and porous bones\n"
     ]
    }
   ],
   "source": [
    "## this code is map the symptom that user enter to the diseases it belongs , by subprocess library.\n",
    "\n",
    "\n",
    "import subprocess\n",
    "\n",
    "def call_prolog(query):\n",
    "    process = subprocess.run(['swipl', '-s', 'update_bone_diseases.pl', '-g', query, '-t', 'halt'], capture_output=True, text=True)\n",
    "    return process.stdout.strip()\n",
    "\n",
    "# Query Prolog for symptoms of osteoporosis\n",
    "output = call_prolog('symptom(osteoporosis, Symptom), write(Symptom), nl, fail; true.')\n",
    "print(output)"
   ]
  },
  {
   "cell_type": "code",
   "execution_count": 5,
   "id": "dc93a277",
   "metadata": {},
   "outputs": [
    {
     "name": "stdout",
     "output_type": "stream",
     "text": [
      "Diseases associated with the symptom:\n",
      "osteoarthritis\n"
     ]
    }
   ],
   "source": [
    "## this code is map the symptom that user enter to the diseases it belongs , by swiplserver library.\n",
    "\n",
    "\n",
    "from swiplserver import PrologMQI, PrologThread\n",
    "\n",
    "# Initialize the Prolog server\n",
    "with PrologMQI() as mqi:\n",
    "    with mqi.create_thread() as prolog_thread:\n",
    "        # Consult the Prolog file\n",
    "        prolog_thread.query(\"consult('update_bone_diseases.pl')\")\n",
    "\n",
    "        # Take input from the user\n",
    "        symptom_input = input(\"Enter a symptom: \")\n",
    "\n",
    "        # Query Prolog for diseases associated with the input symptom\n",
    "        query = f\"symptom(Disease, '{symptom_input}').\"\n",
    "        result = prolog_thread.query(query)\n",
    "\n",
    "        # Print the results\n",
    "        if result:\n",
    "            print(\"Diseases associated with the symptom:\")\n",
    "            for res in result:\n",
    "                print(res[\"Disease\"])\n",
    "        else:\n",
    "            print(\"No diseases found for the given symptom.\")"
   ]
  },
  {
   "cell_type": "code",
   "execution_count": 4,
   "id": "4d391e89",
   "metadata": {},
   "outputs": [
    {
     "name": "stdout",
     "output_type": "stream",
     "text": [
      "No diseases found for the given symptoms.\n"
     ]
    }
   ],
   "source": [
    "## this code is map the symptom that user enter to the diseases it belongs , by swiplserver library.\n",
    "\n",
    "\n",
    "from swiplserver import PrologMQI, PrologThread\n",
    "\n",
    "# Initialize the Prolog server\n",
    "with PrologMQI() as mqi:\n",
    "    with mqi.create_thread() as prolog_thread:\n",
    "        # Consult the Prolog file\n",
    "        prolog_thread.query(\"consult('update_bone_diseases.pl')\")\n",
    "\n",
    "        # Take input from the user\n",
    "        symptoms_input = input(\"Enter one or more symptoms separated by commas: \")\n",
    "\n",
    "        # Split the input into a list of symptoms\n",
    "        symptoms = [s.strip() for s in symptoms_input.split(\",\")]\n",
    "\n",
    "        # Construct the Prolog query dynamically\n",
    "        query = \", \".join([f\"symptom(Disease, '{symptom}')\" for symptom in symptoms]) + \".\"\n",
    "        \n",
    "        # Query Prolog for diseases associated with the input symptoms\n",
    "        result = prolog_thread.query(query)\n",
    "\n",
    "        # Print the results\n",
    "        if result:\n",
    "            print(\"Diseases associated with the given symptoms:\")\n",
    "            for res in result:\n",
    "                print(res[\"Disease\"])\n",
    "        else:\n",
    "            print(\"No diseases found for the given symptoms.\")"
   ]
  },
  {
   "cell_type": "code",
   "execution_count": null,
   "id": "19b57a00",
   "metadata": {},
   "outputs": [],
   "source": []
  }
 ],
 "metadata": {
  "kernelspec": {
   "display_name": "Python 3 (ipykernel)",
   "language": "python",
   "name": "python3"
  },
  "language_info": {
   "codemirror_mode": {
    "name": "ipython",
    "version": 3
   },
   "file_extension": ".py",
   "mimetype": "text/x-python",
   "name": "python",
   "nbconvert_exporter": "python",
   "pygments_lexer": "ipython3",
   "version": "3.10.7"
  },
  "toc": {
   "base_numbering": 1,
   "nav_menu": {},
   "number_sections": true,
   "sideBar": true,
   "skip_h1_title": false,
   "title_cell": "Table of Contents",
   "title_sidebar": "Contents",
   "toc_cell": false,
   "toc_position": {},
   "toc_section_display": true,
   "toc_window_display": false
  },
  "varInspector": {
   "cols": {
    "lenName": 16,
    "lenType": 16,
    "lenVar": 40
   },
   "kernels_config": {
    "python": {
     "delete_cmd_postfix": "",
     "delete_cmd_prefix": "del ",
     "library": "var_list.py",
     "varRefreshCmd": "print(var_dic_list())"
    },
    "r": {
     "delete_cmd_postfix": ") ",
     "delete_cmd_prefix": "rm(",
     "library": "var_list.r",
     "varRefreshCmd": "cat(var_dic_list()) "
    }
   },
   "types_to_exclude": [
    "module",
    "function",
    "builtin_function_or_method",
    "instance",
    "_Feature"
   ],
   "window_display": false
  }
 },
 "nbformat": 4,
 "nbformat_minor": 5
}
